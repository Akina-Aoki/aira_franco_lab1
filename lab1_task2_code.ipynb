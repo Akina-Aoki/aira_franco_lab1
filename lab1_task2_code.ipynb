{
 "cells": [
  {
   "cell_type": "markdown",
   "id": "3078ecf6",
   "metadata": {},
   "source": [
    "## Task 2: dna_raw_compliocated.txt\n",
    "\n",
    "### File Handling\n",
    "Reading txt file using `with statement` and one-line `for` loop"
   ]
  },
  {
   "cell_type": "code",
   "execution_count": null,
   "id": "ff6f8ed6",
   "metadata": {},
   "outputs": [],
   "source": [
    "#"
   ]
  },
  {
   "cell_type": "markdown",
   "id": "710216ee",
   "metadata": {},
   "source": []
  }
 ],
 "metadata": {
  "language_info": {
   "name": "python"
  }
 },
 "nbformat": 4,
 "nbformat_minor": 5
}
