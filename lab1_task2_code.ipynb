{
 "cells": [
  {
   "cell_type": "markdown",
   "id": "3078ecf6",
   "metadata": {},
   "source": [
    "## Task 2: dna_raw_compliocated.txt\n",
    "Task 2 follows some resource from fasta parsing with focus on functions and same methods as task 1 for data cleaning and manipulation\n",
    "\n",
    "### File Handling\n",
    "Reading txt file using `with statement` and one-line `for` loop\n",
    "\n",
    "<br>Resources \n",
    "<br>\n",
    "https://stackoverflow.com/questions/7654971/parsing-a-fasta-file-using-a-generator-python\n",
    "<br>\n",
    "https://stackoverflow.com/questions/29805642/learning-to-parse-a-fasta-file-with-python\n",
    "<br>\n",
    "https://fastaparser.readthedocs.io/en/latest/examples/"
   ]
  },
  {
   "cell_type": "code",
   "execution_count": null,
   "id": "ff6f8ed6",
   "metadata": {},
   "outputs": [
    {
     "name": "stdout",
     "output_type": "stream",
     "text": [
      ">SEQ1\n",
      "CGTAACCAATAAAAAAACAAGCTTAACCTAATTC\n",
      ">SEQ2\n",
      "AGCTTAGTTTGGATCTGGCCGGGG\n",
      ">SEQ3\n",
      "GCGGATTTACTCCCCCCAAAAANNAGGGGAGAGCCCAGATAAATGGAGTCTGTGCGTCCACA\n",
      "GAATTCGCACCA\n",
      "AATAAAACCTCACCCAT\n",
      "AGAGCCCAGAATTTACTCCCC\n",
      ">SEQ4\n",
      "GCGGATTTACTCAGGGGAGAGCCCAGGGATAAATGGAGTCTGTGCGTCCACA\n",
      "GAATTCGCACCA\n"
     ]
    }
   ],
   "source": [
    "# empty list to store the txt file\n",
    "dna_sequences = []\n",
    "\n",
    "# use with statement to read file\n",
    "with open(\"dna_raw_complicated.txt\", \"r\") as f_read:\n",
    "    for dna_sequences in f_read:\n",
    "\n",
    "        # data cleaning and manipulation\n",
    "        # overwrite the all changes \n",
    "        dna_sequences = dna_sequences.strip()  # remove whitespaces\n",
    "        dna_sequences = dna_sequences.upper()  # manipulate strings to uppercases\n",
    "        dna_sequences = dna_sequences.strip(\"\\n\") # remove the newlines\n",
    "\n",
    "        # print each line\n",
    "        print(dna_sequences)"
   ]
  },
  {
   "cell_type": "code",
   "execution_count": 27,
   "id": "2ab73c52",
   "metadata": {},
   "outputs": [],
   "source": [
    "# assign the text file to file\n",
    "file = \"dna_raw_complicated.txt\"\n",
    "\n",
    "# create a function for with statement to read file manipulate file by inside the for loop by\n",
    "# if TRUE that line in f starts with '>', strip the '>' and append to 'sequences' (seq1, seq2, seq3, seq4)\n",
    "# otherwise, when loop jumps to next line and argument is FALSE\n",
    "# convert string to uppercase and append to 'dna'\n",
    "def filereader(file):\n",
    "\n",
    "    # open the txt file as f_read\n",
    "    with open(file, \"r\") as f:\n",
    "\n",
    "        # list to store dna strings\n",
    "        dna = []\n",
    "\n",
    "        # list to store store sequences (seq1, seq2, seq3, seq4)\n",
    "        sequences = []\n",
    "        \n",
    "        # data cleaning inside the for loop through each the lines of the file before dividing the sequence and dna\n",
    "        for line in f: \n",
    "            line = line.strip()      # strip spaces front and back\n",
    "            line = line.upper()      # convert to uppercase\n",
    "\n",
    "            # if line starts with '>' is TRUE\n",
    "            if line.startswith('>'):\n",
    "                sequences.append(line.lstrip('>'))   # strip '>', append to 'sequences'\n",
    "            # if line starts with '>' is FALSE\n",
    "            else:\n",
    "                dna.append(line)                     # append that line to 'dna' \n",
    "\n",
    "        print(f'DNA Sequene number: {sequences}')\n",
    "        print(f'DNA letters: {dna}')\n"
   ]
  },
  {
   "cell_type": "code",
   "execution_count": 26,
   "id": "a6d9974d",
   "metadata": {},
   "outputs": [
    {
     "name": "stdout",
     "output_type": "stream",
     "text": [
      "DNA Sequene number: ['SEQ1', 'SEQ2', 'SEQ3', 'SEQ4']\n",
      "DNA letters: ['CGTAACCAATAAAAAAACAAGCTTAACCTAATTC', 'AGCTTAGTTTGGATCTGGCCGGGG', 'GCGGATTTACTCCCCCCAAAAANNAGGGGAGAGCCCAGATAAATGGAGTCTGTGCGTCCACA', 'GAATTCGCACCA', 'AATAAAACCTCACCCAT', 'AGAGCCCAGAATTTACTCCCC', 'GCGGATTTACTCAGGGGAGAGCCCAGGGATAAATGGAGTCTGTGCGTCCACA', 'GAATTCGCACCA']\n"
     ]
    }
   ],
   "source": [
    "filereader(file)"
   ]
  },
  {
   "cell_type": "markdown",
   "id": "710216ee",
   "metadata": {},
   "source": []
  },
  {
   "cell_type": "code",
   "execution_count": null,
   "id": "fa9960bd",
   "metadata": {},
   "outputs": [
    {
     "data": {
      "text/plain": [
       "[]"
      ]
     },
     "execution_count": 21,
     "metadata": {},
     "output_type": "execute_result"
    }
   ],
   "source": []
  },
  {
   "cell_type": "code",
   "execution_count": null,
   "id": "266d7487",
   "metadata": {},
   "outputs": [],
   "source": []
  }
 ],
 "metadata": {
  "kernelspec": {
   "display_name": "Python 3",
   "language": "python",
   "name": "python3"
  },
  "language_info": {
   "codemirror_mode": {
    "name": "ipython",
    "version": 3
   },
   "file_extension": ".py",
   "mimetype": "text/x-python",
   "name": "python",
   "nbconvert_exporter": "python",
   "pygments_lexer": "ipython3",
   "version": "3.12.10"
  }
 },
 "nbformat": 4,
 "nbformat_minor": 5
}
