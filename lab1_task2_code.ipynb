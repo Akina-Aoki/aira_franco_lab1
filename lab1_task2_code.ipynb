{
 "cells": [
  {
   "cell_type": "markdown",
   "id": "3078ecf6",
   "metadata": {},
   "source": [
    "# Task 2: dna_raw_compliocated.txt\n",
    "Task 2 follows some resource from fasta parsing, more nested loops with focus on functions and same methods as task 1 for data cleaning and manipulation. <br>\n",
    "<br>\n",
    "\n",
    "### Main Idea\n",
    "Use a list to accumulate lines until it reaches a new id.<br>\n",
    "Then **join** the lines together and store them with the id in a dictionary.<br>\n",
    "The following function takes an open file and **yields** each pair of (id, sequence)."
   ]
  },
  {
   "cell_type": "markdown",
   "id": "3644ba5d",
   "metadata": {},
   "source": [
    "#### Methods & Keywords used:\n",
    "The `join()` method in Python is used to concatenate elements into a single string, *with a specified separator between each element.* <br>\n",
    "<br> The `yield` keyword in Python is used to create *generators*, which are special types of iterators. It pauses the function and retains its state, allowing it to resume from where it left off.<br>\n",
    "<br>\n",
    "`if seq_nr:` is True, "
   ]
  },
  {
   "cell_type": "code",
   "execution_count": 60,
   "id": "23fa771d",
   "metadata": {},
   "outputs": [],
   "source": [
    "# assign the task text file to 'file'\n",
    "file = \"dna_raw_complicated.txt\"\n",
    "\n",
    "# create a function to read and 'file' as placeholder\n",
    "def filereader(file):\n",
    "\n",
    "    # stores one sequence name each , set to 'None' while no seq ID NAME found yet, str type\n",
    "    seq_nr = None\n",
    "    # emptty list to store dna letters\n",
    "    proteins = []\n",
    "\n",
    "    # scan through each line in 'file'\n",
    "    for line in file:\n",
    "        line = line.rstrip().upper()                      # strip spaces & convert uppercase\n",
    "        if line.startswith(\">\"):                          # '>' start is TRUE -> tells code that it's a 'seq_nr'\n",
    "            if seq_nr:                                    # only run if seq_nr name exists = Not NONE\n",
    "                string_join = ''.join(proteins)           # CONCATENATE LETTERS INTO ONE STRING under that seq_nr\n",
    "                yield                                     \n",
    "            seq_nr = line                                 # save that line to seq_nr\n",
    "            proteins = []                                 # rests 'proteins', collect new lines for next proteins\n",
    "        else:\n",
    "            proteins.append(line)                         # '>' start is FLASE -> append that line to 'proteins'\n",
    "    if seq_nr:\n",
    "        string_join = ''.join(proteins)\n",
    "        yield\n",
    "\n",
    "\n"
   ]
  },
  {
   "cell_type": "markdown",
   "id": "4b055a23",
   "metadata": {},
   "source": [
    "### File Handling with statement"
   ]
  },
  {
   "cell_type": "code",
   "execution_count": 61,
   "id": "93b0c094",
   "metadata": {},
   "outputs": [
    {
     "ename": "TypeError",
     "evalue": "cannot unpack non-iterable NoneType object",
     "output_type": "error",
     "traceback": [
      "\u001b[31m---------------------------------------------------------------------------\u001b[39m",
      "\u001b[31mTypeError\u001b[39m                                 Traceback (most recent call last)",
      "\u001b[36mCell\u001b[39m\u001b[36m \u001b[39m\u001b[32mIn[61]\u001b[39m\u001b[32m, line 3\u001b[39m\n\u001b[32m      1\u001b[39m \u001b[38;5;66;03m# open the txt file as f_read, f as the actual opened object to loop through\u001b[39;00m\n\u001b[32m      2\u001b[39m \u001b[38;5;28;01mwith\u001b[39;00m \u001b[38;5;28mopen\u001b[39m(file, \u001b[33m\"\u001b[39m\u001b[33mr\u001b[39m\u001b[33m\"\u001b[39m) \u001b[38;5;28;01mas\u001b[39;00m f:\n\u001b[32m----> \u001b[39m\u001b[32m3\u001b[39m     \u001b[38;5;28;01mfor\u001b[39;00m name, seq \u001b[38;5;129;01min\u001b[39;00m filereader(f):\n\u001b[32m      4\u001b[39m         \u001b[38;5;28mprint\u001b[39m(name, seq)\n",
      "\u001b[31mTypeError\u001b[39m: cannot unpack non-iterable NoneType object"
     ]
    }
   ],
   "source": [
    "# open the txt file as f_read, f as the actual opened object to loop through\n",
    "with open(file, \"r\") as f:\n",
    "    for name, seq in filereader(f):\n",
    "        print(name, seq)"
   ]
  },
  {
   "cell_type": "markdown",
   "id": "710216ee",
   "metadata": {},
   "source": [
    "Dna Counter and frequency resource:\n",
    "https://mdjubayerhossain.com/PY4B/notebooks/07-DNA%20Sequence%20Statistics.html"
   ]
  },
  {
   "cell_type": "code",
   "execution_count": null,
   "id": "fa9960bd",
   "metadata": {},
   "outputs": [],
   "source": [
    "# counts of a dna function\n",
    "def count_dna(dna):\n",
    "    counts = {}\n",
    "    for count in dna:\n",
    "        if count in counts:\n",
    "            counts[count] += 1\n",
    "        else:\n",
    "            counts[count] = 1\n",
    "    return counts"
   ]
  },
  {
   "cell_type": "code",
   "execution_count": 34,
   "id": "266d7487",
   "metadata": {},
   "outputs": [
    {
     "data": {
      "text/plain": [
       "{}"
      ]
     },
     "execution_count": 34,
     "metadata": {},
     "output_type": "execute_result"
    }
   ],
   "source": [
    "# call the count_dna function\n",
    "count_dna(dna)"
   ]
  },
  {
   "cell_type": "code",
   "execution_count": null,
   "id": "22136cf6",
   "metadata": {},
   "outputs": [],
   "source": [
    "# counter() function\n",
    "from collections import Counter\n",
    "def count_dna(dna):\n",
    "    counts = Counter(dna)\n",
    "    return counts"
   ]
  },
  {
   "cell_type": "code",
   "execution_count": null,
   "id": "fa3dd3d0",
   "metadata": {},
   "outputs": [],
   "source": [
    "# call the counter function\n",
    "count_dna\n",
    " "
   ]
  },
  {
   "cell_type": "markdown",
   "id": "a9b72465",
   "metadata": {},
   "source": [
    "#### Resources\n",
    "Reading fasta files:\n",
    "<br>\n",
    "https://fastaparser.readthedocs.io/en/latest/examples/ \n",
    "<br>\n",
    "<br>\n",
    "**Use a temporary list to accumalate lines until a new header > is reached:**\n",
    "<br>\n",
    "https://stackoverflow.com/questions/29805642/learning-to-parse-a-fasta-file-with-python\n",
    "<br>\n",
    "<br>\n",
    "Parse files such as dna letters:\n",
    "<br>\n",
    "https://stackoverflow.com/questions/7654971/parsing-a-fasta-file-using-a-generator-python\n",
    "<br>"
   ]
  },
  {
   "cell_type": "markdown",
   "id": "cd212c08",
   "metadata": {},
   "source": []
  }
 ],
 "metadata": {
  "kernelspec": {
   "display_name": "Python 3",
   "language": "python",
   "name": "python3"
  },
  "language_info": {
   "codemirror_mode": {
    "name": "ipython",
    "version": 3
   },
   "file_extension": ".py",
   "mimetype": "text/x-python",
   "name": "python",
   "nbconvert_exporter": "python",
   "pygments_lexer": "ipython3",
   "version": "3.12.10"
  }
 },
 "nbformat": 4,
 "nbformat_minor": 5
}
