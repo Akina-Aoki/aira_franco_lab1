{
 "cells": [
  {
   "cell_type": "markdown",
   "id": "3078ecf6",
   "metadata": {},
   "source": [
    "# Task 2: dna_raw_compliocated.txt\n",
    "Task 2 follows some resource from fasta parsing, more nested loops with focus on functions and same methods as task 1 for data cleaning and manipulation. <br>\n",
    "<br>\n",
    "\n",
    "### Main Idea\n",
    "Use a list to accumulate lines until it reaches a new id.<br>\n"
   ]
  },
  {
   "cell_type": "markdown",
   "id": "4b055a23",
   "metadata": {},
   "source": [
    "### File Handling with statement and data cleaning"
   ]
  },
  {
   "cell_type": "code",
   "execution_count": 113,
   "id": "a849bc28",
   "metadata": {},
   "outputs": [],
   "source": [
    "# Modularization: I divide each block for a specific purpose instead of nested loops\n",
    "\n",
    "# assign the task text file to 'file'\n",
    "file = \"dna_raw_complicated.txt\"\n",
    "\n",
    "# create function to remove spaces and upper case directly\n",
    "def reader_cleaner(file):\n",
    "\n",
    "    # list for cleaned data\n",
    "    clean_data = []\n",
    "\n",
    "# open the txt file as f -> object\n",
    "    with open(file, \"r\") as f: \n",
    "        for every_line in (f):\n",
    "\n",
    "            # strip spaces and convert to uppercase\n",
    "            dna_file = every_line.strip().upper()\n",
    "\n",
    "            # append cleaned data strings to a list\n",
    "            clean_data.append(dna_file)\n",
    "    return clean_data"
   ]
  },
  {
   "cell_type": "code",
   "execution_count": 114,
   "id": "40856cce",
   "metadata": {},
   "outputs": [
    {
     "name": "stdout",
     "output_type": "stream",
     "text": [
      "['>SEQ1', 'CGTAACCAATAAAAAAACAAGCTTAACCTAATTC', '>SEQ2', 'AGCTTAGTTTGGATCTGGCCGGGG', '>SEQ3', 'GCGGATTTACTCCCCCCAAAAANNAGGGGAGAGCCCAGATAAATGGAGTCTGTGCGTCCACA', 'GAATTCGCACCA', 'AATAAAACCTCACCCAT', 'AGAGCCCAGAATTTACTCCCC', '>SEQ4', 'GCGGATTTACTCAGGGGAGAGCCCAGGGATAAATGGAGTCTGTGCGTCCACA', 'GAATTCGCACCA']\n",
      "<class 'list'>\n"
     ]
    }
   ],
   "source": [
    "# call the reader function with object in parameter\n",
    "clean_dna_file = reader_cleaner(file)\n",
    "print(clean_dna_file)\n",
    "print(type(clean_dna_file))"
   ]
  },
  {
   "cell_type": "markdown",
   "id": "0462a06b",
   "metadata": {},
   "source": [
    "## Data Manipulation\n",
    "Takes cleaned DNA lines (from reader_cleaner) \n",
    "<br> and separates them into:\n",
    "- seq_nr: sequence IDs (SEQ1, SEQ2, etc.)\n",
    "- proteins: full DNA sequences<br>\n",
    "<br>Returns two lists."
   ]
  },
  {
   "cell_type": "code",
   "execution_count": 115,
   "id": "ab612874",
   "metadata": {},
   "outputs": [],
   "source": [
    "def dna_manipulator(x):\n",
    "\n",
    "    # stores sequence(1, 2, 3, 4)\n",
    "    seq_nr = []\n",
    "\n",
    "    # final storage for appended dna proteins\n",
    "    proteins = []\n",
    "\n",
    "    # temporary storage for dna proteins used for manipulation\n",
    "    # use string for easier iterarion later\n",
    "    p = \"\"\n",
    "\n",
    "    # loop through each line in 'x'\n",
    "    for every_line in x:\n",
    "\n",
    "        # if line starts with '>' in seq(1,2,3,4)\n",
    "        if every_line.startswith(\">\"):\n",
    "\n",
    "            \n",
    "            if p:\n",
    "                # if dna letters exist in temporary list 'p', save those dna letters to 'proteins'\n",
    "                proteins.append(p)\n",
    "                \n",
    "                # reset the storage to start looping again\n",
    "                p = \"\"\n",
    "\n",
    "            # strip > from seq(1,2,3,4) line and append to seq_nr    \n",
    "            seq_nr.append(every_line.lstrip('>'))   \n",
    "                                   \n",
    "        # keep adding protein letters to temporary variable 'p'\n",
    "        else:\n",
    "\n",
    "            # append the string every_line to list p\n",
    "            p += every_line\n",
    "    \n",
    "    # for last sequence (seq4), do this when loop ends\n",
    "    if p:\n",
    "        proteins.append(p)\n",
    "    return seq_nr, proteins"
   ]
  },
  {
   "cell_type": "code",
   "execution_count": 116,
   "id": "87bd5b2b",
   "metadata": {},
   "outputs": [
    {
     "name": "stdout",
     "output_type": "stream",
     "text": [
      "Sequence ID: ['SEQ1', 'SEQ2', 'SEQ3', 'SEQ4']\n",
      "DNA Proteins: ['CGTAACCAATAAAAAAACAAGCTTAACCTAATTC', 'AGCTTAGTTTGGATCTGGCCGGGG', 'GCGGATTTACTCCCCCCAAAAANNAGGGGAGAGCCCAGATAAATGGAGTCTGTGCGTCCACAGAATTCGCACCAAATAAAACCTCACCCATAGAGCCCAGAATTTACTCCCC', 'GCGGATTTACTCAGGGGAGAGCCCAGGGATAAATGGAGTCTGTGCGTCCACAGAATTCGCACCA']\n"
     ]
    }
   ],
   "source": [
    "seq_nr, proteins = dna_manipulator(clean_dna_file)\n",
    "\n",
    "# print data manipulator() results\n",
    "print(f'Sequence ID: {seq_nr}')\n",
    "print(f'DNA Proteins: {proteins}')"
   ]
  },
  {
   "cell_type": "markdown",
   "id": "13b0c04b",
   "metadata": {},
   "source": [
    "## Combine the 2 lists into dictionary\n",
    "Zip() together to create key-value pairs from the 2 lists"
   ]
  },
  {
   "cell_type": "code",
   "execution_count": 123,
   "id": "a00da043",
   "metadata": {},
   "outputs": [
    {
     "name": "stdout",
     "output_type": "stream",
     "text": [
      "{'SEQ1': 'CGTAACCAATAAAAAAACAAGCTTAACCTAATTC', 'SEQ2': 'AGCTTAGTTTGGATCTGGCCGGGG', 'SEQ3': 'GCGGATTTACTCCCCCCAAAAANNAGGGGAGAGCCCAGATAAATGGAGTCTGTGCGTCCACAGAATTCGCACCAAATAAAACCTCACCCATAGAGCCCAGAATTTACTCCCC', 'SEQ4': 'GCGGATTTACTCAGGGGAGAGCCCAGGGATAAATGGAGTCTGTGCGTCCACAGAATTCGCACCA'}\n"
     ]
    }
   ],
   "source": [
    "dna_dictionary = dict(zip(seq_nr, proteins))\n",
    "print(dna_dictionary)"
   ]
  },
  {
   "cell_type": "markdown",
   "id": "710216ee",
   "metadata": {},
   "source": [
    "## Dna Counter and frequency \n",
    "Takes one DNA protein string<br> \n",
    "counts how many times each letter appears.<br>\n",
    "Returns a Counter dictionary."
   ]
  },
  {
   "cell_type": "code",
   "execution_count": null,
   "id": "22136cf6",
   "metadata": {},
   "outputs": [],
   "source": [
    "# Create function with counter() method\n",
    "\n",
    "from collections import Counter\n",
    "\n",
    "def count_dna(dna):\n",
    "    counts = Counter(dna)\n",
    "    return counts\n"
   ]
  },
  {
   "cell_type": "code",
   "execution_count": 125,
   "id": "fa3dd3d0",
   "metadata": {},
   "outputs": [
    {
     "name": "stdout",
     "output_type": "stream",
     "text": [
      "SEQ1 {'C': 8, 'G': 2, 'T': 7, 'A': 17}\n",
      "SEQ2 {'A': 3, 'G': 10, 'C': 4, 'T': 7}\n",
      "SEQ3 {'G': 21, 'C': 34, 'A': 36, 'T': 19, 'N': 2}\n",
      "SEQ4 {'G': 20, 'C': 15, 'A': 17, 'T': 12}\n",
      "\n",
      "{'SEQ1': {'C': 8, 'G': 2, 'T': 7, 'A': 17}, 'SEQ2': {'A': 3, 'G': 10, 'C': 4, 'T': 7}, 'SEQ3': {'G': 21, 'C': 34, 'A': 36, 'T': 19, 'N': 2}, 'SEQ4': {'G': 20, 'C': 15, 'A': 17, 'T': 12}}\n"
     ]
    }
   ],
   "source": [
    "# apply the function above to my dna_dictionary\n",
    "\n",
    "# store result to new dictionary\n",
    "counted_dictionary = {}\n",
    "\n",
    "for seq_nr, proteins in dna_dictionary.items():\n",
    "    counted_dictionary[seq_nr] = dict(count_dna(proteins))\n",
    "    print(seq_nr, counted_dictionary[seq_nr])\n",
    "\n",
    "print()\n",
    "print(counted_dictionary)"
   ]
  },
  {
   "cell_type": "markdown",
   "id": "a9b72465",
   "metadata": {},
   "source": [
    "## Resources\n",
    "Reading fasta files:\n",
    "<br>\n",
    "https://fastaparser.readthedocs.io/en/latest/examples/ \n",
    "<br>\n",
    "<br>\n",
    "**Use a temporary list to accumalate lines until a new header > is reached:**\n",
    "<br>\n",
    "https://stackoverflow.com/questions/29805642/learning-to-parse-a-fasta-file-with-python\n",
    "<br>\n",
    "<br>\n",
    "Parse files such as dna letters:\n",
    "<br>\n",
    "https://stackoverflow.com/questions/7654971/parsing-a-fasta-file-using-a-generator-python\n",
    "<br>\n",
    "<br>\n",
    "DNA Counter and Frrequency\n",
    "<br>\n",
    "https://mdjubayerhossain.com/PY4B/notebooks/07-DNA%20Sequence%20Statistics.html"
   ]
  },
  {
   "cell_type": "markdown",
   "id": "cd212c08",
   "metadata": {},
   "source": []
  }
 ],
 "metadata": {
  "kernelspec": {
   "display_name": "Python 3",
   "language": "python",
   "name": "python3"
  },
  "language_info": {
   "codemirror_mode": {
    "name": "ipython",
    "version": 3
   },
   "file_extension": ".py",
   "mimetype": "text/x-python",
   "name": "python",
   "nbconvert_exporter": "python",
   "pygments_lexer": "ipython3",
   "version": "3.12.10"
  }
 },
 "nbformat": 4,
 "nbformat_minor": 5
}
