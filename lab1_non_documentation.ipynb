{
 "cells": [
  {
   "cell_type": "code",
   "execution_count": 1,
   "id": "2dd5a021",
   "metadata": {},
   "outputs": [],
   "source": [
    "# empty list to store the file\n",
    "dna_sequences = []\n",
    "\n",
    "# use with statement to read file\n",
    "with open (\"dna_raw.txt\", \"r\") as f:\n",
    "    dna_sequences = [line.strip().upper() for line in f]       "
   ]
  },
  {
   "cell_type": "code",
   "execution_count": 2,
   "id": "5c5c4562",
   "metadata": {},
   "outputs": [
    {
     "data": {
      "text/plain": [
       "['>SEQ1',\n",
       " 'CGTAACCAATAAAAAAACAAGCTTAACCTAATTC',\n",
       " '>SEQ2',\n",
       " 'AGCTTAGTTTGGATCTGGCCGGGG',\n",
       " '>SEQ3',\n",
       " 'GCGGATTTACTCCCCCCAAAAANNAGGGGAGAGCCCAGATAAATGGAGTCTGTGCGTCCACA',\n",
       " '>SEQ4',\n",
       " 'GCGGATTTACTCAGGGGAGAGCCCAGGGATAAATGGAGTCTGTGCGTCCACA']"
      ]
     },
     "execution_count": 2,
     "metadata": {},
     "output_type": "execute_result"
    }
   ],
   "source": [
    "dna_sequences"
   ]
  },
  {
   "cell_type": "code",
   "execution_count": 3,
   "id": "cae697b6",
   "metadata": {},
   "outputs": [
    {
     "name": "stdout",
     "output_type": "stream",
     "text": [
      "DNA ID: ['SEQ1', 'SEQ2', 'SEQ3', 'SEQ4']\n",
      "DNA letters: ['CGTAACCAATAAAAAAACAAGCTTAACCTAATTC', 'AGCTTAGTTTGGATCTGGCCGGGG', 'GCGGATTTACTCCCCCCAAAAANNAGGGGAGAGCCCAGATAAATGGAGTCTGTGCGTCCACA', 'GCGGATTTACTCAGGGGAGAGCCCAGGGATAAATGGAGTCTGTGCGTCCACA']\n"
     ]
    }
   ],
   "source": [
    "dna_id = []              # list for seq1, seq2, seq3, seq4\n",
    "dna_letters = []         # list for A,T,C,G,N\n",
    "\n",
    "# start for loop with startswith() function\n",
    "for line in dna_sequences:\n",
    "    if line.startswith('>'):              # if '>' exists argument is True\n",
    "        dna_id.append(line.lstrip('>'))   # lstrip('>') will remove the string in each line given inside the argument. Append to 'dna_id' list \n",
    "                                          \n",
    "        \n",
    "    else:                                 # if startswith('>') argument is False\n",
    "        dna_letters.append(line)          # append to 'dna_letters' list\n",
    "\n",
    "print(f'DNA ID: {dna_id}')\n",
    "print(f'DNA letters: {dna_letters}')"
   ]
  },
  {
   "cell_type": "code",
   "execution_count": 4,
   "id": "288f00d4",
   "metadata": {},
   "outputs": [
    {
     "name": "stdout",
     "output_type": "stream",
     "text": [
      "Sequence 1:\n",
      "['C', 'G', 'T', 'A', 'A', 'C', 'C', 'A', 'A', 'T', 'A', 'A', 'A', 'A', 'A', 'A', 'A', 'C', 'A', 'A', 'G', 'C', 'T', 'T', 'A', 'A', 'C', 'C', 'T', 'A', 'A', 'T', 'T', 'C']\n",
      "\n",
      "Sequence 2:\n",
      "['A', 'G', 'C', 'T', 'T', 'A', 'G', 'T', 'T', 'T', 'G', 'G', 'A', 'T', 'C', 'T', 'G', 'G', 'C', 'C', 'G', 'G', 'G', 'G']\n",
      "\n",
      "Sequence 3:\n",
      "['G', 'C', 'G', 'G', 'A', 'T', 'T', 'T', 'A', 'C', 'T', 'C', 'C', 'C', 'C', 'C', 'C', 'A', 'A', 'A', 'A', 'A', 'N', 'N', 'A', 'G', 'G', 'G', 'G', 'A', 'G', 'A', 'G', 'C', 'C', 'C', 'A', 'G', 'A', 'T', 'A', 'A', 'A', 'T', 'G', 'G', 'A', 'G', 'T', 'C', 'T', 'G', 'T', 'G', 'C', 'G', 'T', 'C', 'C', 'A', 'C', 'A']\n",
      "\n",
      "Sequence 4:\n",
      "['G', 'C', 'G', 'G', 'A', 'T', 'T', 'T', 'A', 'C', 'T', 'C', 'A', 'G', 'G', 'G', 'G', 'A', 'G', 'A', 'G', 'C', 'C', 'C', 'A', 'G', 'G', 'G', 'A', 'T', 'A', 'A', 'A', 'T', 'G', 'G', 'A', 'G', 'T', 'C', 'T', 'G', 'T', 'G', 'C', 'G', 'T', 'C', 'C', 'A', 'C', 'A']\n",
      "\n"
     ]
    }
   ],
   "source": [
    "# import regex module\n",
    "import re\n",
    "\n",
    "# initialize empty dictionary for counts\n",
    "letters_list = []\n",
    "\n",
    "\n",
    "# enumerate() a counter as the key of enumerate object\n",
    "# extract valid DNA letters from each sequence\n",
    "for i, q in enumerate(dna_letters, start = 1):   # i is index, q is strings\n",
    "    letters = re.findall(r\"[ATCGN]\", q)          # find all characters specfied inside the parameter\n",
    "    letters_list.append(letters)                 # append outcome of letters\n",
    "\n",
    "    # Print block for this sequence\n",
    "    print(f\"Sequence {i}:\")                      # {i} is the index per  dna_id sequence, starts from 1\n",
    "    print(letters)                               # remember that the result of findall(r\"[ATCGN]\", q) is in `letters` or `letters_list`\n",
    "    print() # for space\n"
   ]
  },
  {
   "cell_type": "code",
   "execution_count": 5,
   "id": "111326c7",
   "metadata": {},
   "outputs": [
    {
     "name": "stdout",
     "output_type": "stream",
     "text": [
      "SEQ1 {'C': 8, 'G': 2, 'T': 7, 'A': 17}\n",
      "SEQ2 {'A': 3, 'G': 10, 'C': 4, 'T': 7}\n",
      "SEQ3 {'G': 16, 'C': 16, 'A': 18, 'T': 10, 'N': 2}\n",
      "SEQ4 {'G': 18, 'C': 11, 'A': 13, 'T': 10}\n",
      "\n",
      "Final main dictionary: {'SEQ1': {'C': 8, 'G': 2, 'T': 7, 'A': 17}, 'SEQ2': {'A': 3, 'G': 10, 'C': 4, 'T': 7}, 'SEQ3': {'G': 16, 'C': 16, 'A': 18, 'T': 10, 'N': 2}, 'SEQ4': {'G': 18, 'C': 11, 'A': 13, 'T': 10}}\n"
     ]
    }
   ],
   "source": [
    "# import regular expression for pattern recognition\n",
    "import re\n",
    "\n",
    "# import collections module and Counter() function for frequency counter in dictionaries\n",
    "from collections import Counter\n",
    "\n",
    "# empty dictionary for final results\n",
    "dna_numbers = {}\n",
    "\n",
    "# temporary variable for for loop\n",
    "letters_list = []\n",
    "\n",
    "# loop through dna_sequence\n",
    "for i, q in enumerate (dna_letters, start = 1):\n",
    "    letters = re.findall(r\"[ATCGN]\", q)\n",
    "    letters_list.append(letters)\n",
    "\n",
    "    \n",
    "    # use `letters` as parameter to count() the frequency of dna_letters \n",
    "    # convert from list to dictionary\n",
    "    # and store to `counts` variable\n",
    "    counts = dict(Counter(letters))\n",
    "\n",
    "     # save in the main dictionary `dna_numbers`\n",
    "    dna_numbers[dna_id[i - 1]] = counts\n",
    "\n",
    "    # mirrors the key-value statement of dictionary\n",
    "    print(dna_id[i - 1], counts)\n",
    "print()\n",
    "print(f'Final main dictionary: {dna_numbers}')"
   ]
  },
  {
   "cell_type": "code",
   "execution_count": 11,
   "id": "00265b5e",
   "metadata": {},
   "outputs": [
    {
     "data": {
      "text/plain": [
       "{'SEQ1': {'C': 8, 'G': 2, 'T': 7, 'A': 17},\n",
       " 'SEQ2': {'A': 3, 'G': 10, 'C': 4, 'T': 7},\n",
       " 'SEQ3': {'G': 16, 'C': 16, 'A': 18, 'T': 10, 'N': 2},\n",
       " 'SEQ4': {'G': 18, 'C': 11, 'A': 13, 'T': 10}}"
      ]
     },
     "execution_count": 11,
     "metadata": {},
     "output_type": "execute_result"
    }
   ],
   "source": [
    "dna_numbers"
   ]
  },
  {
   "cell_type": "code",
   "execution_count": 12,
   "id": "6423b9ac",
   "metadata": {},
   "outputs": [
    {
     "name": "stdout",
     "output_type": "stream",
     "text": [
      "<class 'dict'>\n"
     ]
    }
   ],
   "source": [
    "print(type(dna_numbers))"
   ]
  },
  {
   "cell_type": "code",
   "execution_count": 15,
   "id": "654ca779",
   "metadata": {},
   "outputs": [
    {
     "data": {
      "image/png": "[encoded data removed]",
      "text/plain": [
       "<Figure size 640x480 with 1 Axes>"
      ]
     },
     "metadata": {},
     "output_type": "display_data"
    }
   ],
   "source": [
    "# matplotlib for plotting\n",
    "import matplotlib.pyplot as plt\n",
    "\n",
    "# loop through both key and value with items()\n",
    "for sequence_id, counts in dna_numbers.items():\n",
    "\n",
    "    # extract key value from the dictionary\n",
    "    dna_proteins = list(counts.keys())\n",
    "    dna_counts = list(counts.values())\n",
    "\n",
    "# bar() function in the matplotlib.pyplot library and define different parameters\n",
    "plt.bar(dna_proteins, dna_counts, color = \"pink\")\n",
    "\n",
    "# x, y axis and title\n",
    "plt.xlabel(\"DNA Proteins\")\n",
    "plt.ylabel(\"DNA Counts\")\n",
    "plt.title(f'Sequence ID: {sequence_id}')\n",
    "\n",
    "# show chart\n",
    "plt.show()"
   ]
  },
  {
   "cell_type": "code",
   "execution_count": null,
   "id": "ee738c30",
   "metadata": {},
   "outputs": [],
   "source": []
  }
 ],
 "metadata": {
  "kernelspec": {
   "display_name": "Python 3",
   "language": "python",
   "name": "python3"
  },
  "language_info": {
   "codemirror_mode": {
    "name": "ipython",
    "version": 3
   },
   "file_extension": ".py",
   "mimetype": "text/x-python",
   "name": "python",
   "nbconvert_exporter": "python",
   "pygments_lexer": "ipython3",
   "version": "3.12.10"
  }
 },
 "nbformat": 4,
 "nbformat_minor": 5
}
