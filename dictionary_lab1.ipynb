{
 "cells": [
  {
   "cell_type": "markdown",
   "id": "40b928d5",
   "metadata": {},
   "source": [
    "# Dictionary practice for lab1:\n",
    "### Resource: https://www.geeksforgeeks.org/python/python-convert-a-list-to-dictionary/"
   ]
  },
  {
   "cell_type": "code",
   "execution_count": 1,
   "id": "0c88e162",
   "metadata": {},
   "outputs": [
    {
     "name": "stdout",
     "output_type": "stream",
     "text": [
      "{0: 10, 1: 20, 2: 30}\n"
     ]
    }
   ],
   "source": [
    "# List of values\n",
    "a = [10, 20, 30]\n",
    "\n",
    "# Convert to dictionary with index as key and value as value\n",
    "b = {index: value for index, value in enumerate(a)}\n",
    "print(b)"
   ]
  },
  {
   "cell_type": "markdown",
   "id": "8b82adc9",
   "metadata": {},
   "source": [
    "### Grouping Elements into Key-Value Pairs\n",
    "\n",
    "Grouping elements into key-value pairs involves pairing consecutive elements in a list where the first becomes key and next becomes the value."
   ]
  },
  {
   "cell_type": "code",
   "execution_count": 2,
   "id": "d1c0e7c6",
   "metadata": {},
   "outputs": [
    {
     "name": "stdout",
     "output_type": "stream",
     "text": [
      "{'a': 1, 'b': 2, 'c': 3}\n"
     ]
    }
   ],
   "source": [
    "a = [\"a\", 1, \"b\", 2, \"c\", 3]\n",
    "\n",
    "# Create dictionary by pairing elements, using every second element as value\n",
    "result = {a[i]: a[i + 1] for i in range(0, len(a), 2)}\n",
    "print(result)"
   ]
  },
  {
   "cell_type": "markdown",
   "id": "49d5cff8",
   "metadata": {},
   "source": [
    "#### Using zip()\n",
    "\n",
    "Using zip() allows pairing two lists, one for keys and the other for values, to create a dictionary. This method is efficient for custom key-value mappings when you have separate lists for each."
   ]
  },
  {
   "cell_type": "code",
   "execution_count": 3,
   "id": "8778040a",
   "metadata": {},
   "outputs": [
    {
     "name": "stdout",
     "output_type": "stream",
     "text": [
      "{'apple': 5, 'banana': 6, 'cherry': 6}\n"
     ]
    }
   ],
   "source": [
    "a = [\"apple\", \"banana\", \"cherry\"]\n",
    "\n",
    "# Create dictionary where each fruit is a key, and its length is the value\n",
    "b = {value: len(value) for value in a}\n",
    "\n",
    "print(b)"
   ]
  },
  {
   "cell_type": "markdown",
   "id": "9a9096a5",
   "metadata": {},
   "source": [
    "### Using the zip() function\n",
    "The zip() function is useful when you have two separate lists, one for keys and one for values, and you want to combine them into a dictionary."
   ]
  },
  {
   "cell_type": "code",
   "execution_count": 8,
   "id": "8e967211",
   "metadata": {},
   "outputs": [
    {
     "name": "stdout",
     "output_type": "stream",
     "text": [
      "{'name': 'John', 'age': 30, 'city': 'New York'}\n"
     ]
    }
   ],
   "source": [
    "keys = ['name', 'age', 'city']\n",
    "values = ['John', 30, 'New York']\n",
    "result_dict = dict(zip(keys, values))\n",
    "print(result_dict)"
   ]
  },
  {
   "cell_type": "markdown",
   "id": "79d52b66",
   "metadata": {},
   "source": [
    "### lab1 practice sample"
   ]
  },
  {
   "cell_type": "code",
   "execution_count": 7,
   "id": "8c6965ce",
   "metadata": {},
   "outputs": [
    {
     "data": {
      "text/plain": [
       "{0: 'sfsff', 1: 'adfafafagsg', 2: 'fafaf', 3: 'afdafaf'}"
      ]
     },
     "execution_count": 7,
     "metadata": {},
     "output_type": "execute_result"
    }
   ],
   "source": [
    "dict_a = {\"adfafafagsg\", \"afdafaf\", \"fafaf\", \"sfsff\"}\n",
    "dict_b = {1, 2, 3, 4}\n",
    "\n",
    "combine = {dict_a : dict_b for dict_a, dict_b in enumerate (dict_a)}\n",
    "combine\n"
   ]
  },
  {
   "cell_type": "markdown",
   "id": "a1e9b874",
   "metadata": {},
   "source": []
  }
 ],
 "metadata": {
  "kernelspec": {
   "display_name": "Python 3",
   "language": "python",
   "name": "python3"
  },
  "language_info": {
   "codemirror_mode": {
    "name": "ipython",
    "version": 3
   },
   "file_extension": ".py",
   "mimetype": "text/x-python",
   "name": "python",
   "nbconvert_exporter": "python",
   "pygments_lexer": "ipython3",
   "version": "3.12.10"
  }
 },
 "nbformat": 4,
 "nbformat_minor": 5
}
