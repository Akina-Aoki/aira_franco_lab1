{
 "cells": [
  {
   "cell_type": "markdown",
   "id": "d176945a",
   "metadata": {},
   "source": [
    "\n",
    "## Coding draft space before adding to main documentation lab1.ipynb"
   ]
  },
  {
   "cell_type": "markdown",
   "id": "ee5e8755",
   "metadata": {},
   "source": []
  },
  {
   "cell_type": "code",
   "execution_count": 1,
   "id": "113a7a52",
   "metadata": {},
   "outputs": [
    {
     "name": "stdout",
     "output_type": "stream",
     "text": [
      "['>SEQ1', 'CGTAACCAATAAAAAAACAAGCTTAACCTAATTC', '>SEQ2', 'AGCTTAGTTTGGATCTGGCCGGGG', '>SEQ3', 'GCGGATTTACTCCCCCCAAAAANNAGGGGAGAGCCCAGATAAATGGAGTCTGTGCGTCCACA', '>SEQ4', 'GCGGATTTACTCAGGGGAGAGCCCAGGGATAAATGGAGTCTGTGCGTCCACA']\n"
     ]
    }
   ],
   "source": [
    "# empty list to store the file\n",
    "dna_sequences = []\n",
    "\n",
    "# use with statement to read file\n",
    "with open (\"dna_raw.txt\", \"r\") as f:\n",
    "    dna_sequences = [line.strip().upper() for line in f]       \n",
    "\n",
    "print(dna_sequences)\n",
    "\n"
   ]
  },
  {
   "cell_type": "code",
   "execution_count": 2,
   "id": "778cba40",
   "metadata": {},
   "outputs": [
    {
     "data": {
      "text/plain": [
       "['>SEQ1',\n",
       " 'CGTAACCAATAAAAAAACAAGCTTAACCTAATTC',\n",
       " '>SEQ2',\n",
       " 'AGCTTAGTTTGGATCTGGCCGGGG',\n",
       " '>SEQ3',\n",
       " 'GCGGATTTACTCCCCCCAAAAANNAGGGGAGAGCCCAGATAAATGGAGTCTGTGCGTCCACA',\n",
       " '>SEQ4',\n",
       " 'GCGGATTTACTCAGGGGAGAGCCCAGGGATAAATGGAGTCTGTGCGTCCACA']"
      ]
     },
     "execution_count": 2,
     "metadata": {},
     "output_type": "execute_result"
    }
   ],
   "source": [
    "# The letters are now normalized into all uppercase letters with .upper() and stored into the variable `dna_sequences`.\n",
    "dna_sequences"
   ]
  },
  {
   "cell_type": "code",
   "execution_count": 3,
   "id": "bfed8ba7",
   "metadata": {},
   "outputs": [
    {
     "name": "stdout",
     "output_type": "stream",
     "text": [
      "DNA ID: ['SEQ1', 'SEQ2', 'SEQ3', 'SEQ4']\n",
      "DNA letters: ['CGTAACCAATAAAAAAACAAGCTTAACCTAATTC', 'AGCTTAGTTTGGATCTGGCCGGGG', 'GCGGATTTACTCCCCCCAAAAANNAGGGGAGAGCCCAGATAAATGGAGTCTGTGCGTCCACA', 'GCGGATTTACTCAGGGGAGAGCCCAGGGATAAATGGAGTCTGTGCGTCCACA']\n"
     ]
    }
   ],
   "source": [
    "dna_id = []              # list for seq1, seq2, seq3, seq4\n",
    "dna_letters = []         # list for A,T,C,G,N\n",
    "\n",
    "# start for loop with startswith function\n",
    "for line in dna_sequences:\n",
    "    if line.startswith('>'):              # if '>' exists argument is True\n",
    "        dna_id.append(line.lstrip('>'))   # lstrip('>') will remove the string in each line given inside the argument. Append to 'dna_id' list \n",
    "                                          \n",
    "        \n",
    "    else:                                 # if startswith('>') argument is False\n",
    "        dna_letters.append(line)          # append to 'dna_letters' list\n",
    "\n",
    "print(f'DNA ID: {dna_id}')\n",
    "print(f'DNA letters: {dna_letters}')"
   ]
  },
  {
   "cell_type": "code",
   "execution_count": 4,
   "id": "5881c965",
   "metadata": {},
   "outputs": [
    {
     "data": {
      "text/plain": [
       "['SEQ1', 'SEQ2', 'SEQ3', 'SEQ4']"
      ]
     },
     "execution_count": 4,
     "metadata": {},
     "output_type": "execute_result"
    }
   ],
   "source": [
    "dna_id"
   ]
  },
  {
   "cell_type": "code",
   "execution_count": 5,
   "id": "bb9afbd1",
   "metadata": {},
   "outputs": [
    {
     "data": {
      "text/plain": [
       "['CGTAACCAATAAAAAAACAAGCTTAACCTAATTC',\n",
       " 'AGCTTAGTTTGGATCTGGCCGGGG',\n",
       " 'GCGGATTTACTCCCCCCAAAAANNAGGGGAGAGCCCAGATAAATGGAGTCTGTGCGTCCACA',\n",
       " 'GCGGATTTACTCAGGGGAGAGCCCAGGGATAAATGGAGTCTGTGCGTCCACA']"
      ]
     },
     "execution_count": 5,
     "metadata": {},
     "output_type": "execute_result"
    }
   ],
   "source": [
    "dna_letters"
   ]
  },
  {
   "cell_type": "code",
   "execution_count": null,
   "id": "b8028562",
   "metadata": {},
   "outputs": [
    {
     "name": "stdout",
     "output_type": "stream",
     "text": [
      "Sequence 1:\n",
      "['C', 'G', 'T', 'A', 'A', 'C', 'C', 'A', 'A', 'T', 'A', 'A', 'A', 'A', 'A', 'A', 'A', 'C', 'A', 'A', 'G', 'C', 'T', 'T', 'A', 'A', 'C', 'C', 'T', 'A', 'A', 'T', 'T', 'C']\n",
      "\n",
      "Sequence 2:\n",
      "['A', 'G', 'C', 'T', 'T', 'A', 'G', 'T', 'T', 'T', 'G', 'G', 'A', 'T', 'C', 'T', 'G', 'G', 'C', 'C', 'G', 'G', 'G', 'G']\n",
      "\n",
      "Sequence 3:\n",
      "['G', 'C', 'G', 'G', 'A', 'T', 'T', 'T', 'A', 'C', 'T', 'C', 'C', 'C', 'C', 'C', 'C', 'A', 'A', 'A', 'A', 'A', 'N', 'N', 'A', 'G', 'G', 'G', 'G', 'A', 'G', 'A', 'G', 'C', 'C', 'C', 'A', 'G', 'A', 'T', 'A', 'A', 'A', 'T', 'G', 'G', 'A', 'G', 'T', 'C', 'T', 'G', 'T', 'G', 'C', 'G', 'T', 'C', 'C', 'A', 'C', 'A']\n",
      "\n",
      "Sequence 4:\n",
      "['G', 'C', 'G', 'G', 'A', 'T', 'T', 'T', 'A', 'C', 'T', 'C', 'A', 'G', 'G', 'G', 'G', 'A', 'G', 'A', 'G', 'C', 'C', 'C', 'A', 'G', 'G', 'G', 'A', 'T', 'A', 'A', 'A', 'T', 'G', 'G', 'A', 'G', 'T', 'C', 'T', 'G', 'T', 'G', 'C', 'G', 'T', 'C', 'C', 'A', 'C', 'A']\n",
      "\n"
     ]
    }
   ],
   "source": [
    "# import regex moduke\n",
    "import re\n",
    "\n",
    "# initialize empty dictionary for counts\n",
    "letters_list = []\n",
    "\n",
    "# set parameter to start from 1, not 0\n",
    "# enumerate() function adds a counter as the key of enumerate object\n",
    "# Syntax: enumerate(iterable, start)\n",
    "# regex to findall dna_letters\n",
    "# `r` for raw string.  Code to look for patterns\n",
    "# \"[ATCGN]\" format to match any one character inside the list bracket\n",
    "\n",
    "for i, q in enumerate(dna_letters, start = 1):\n",
    "    letters = re.findall(r\"[ATCGN]\", q)\n",
    "    letters_list.append(letters)\n",
    "\n",
    "    # Print block for this sequence\n",
    "    print(f\"Sequence {i}:\")\n",
    "    print(letters)\n",
    "    print() "
   ]
  },
  {
   "cell_type": "code",
   "execution_count": null,
   "id": "869c9a76",
   "metadata": {},
   "outputs": [],
   "source": []
  }
 ],
 "metadata": {
  "kernelspec": {
   "display_name": "Python 3",
   "language": "python",
   "name": "python3"
  },
  "language_info": {
   "codemirror_mode": {
    "name": "ipython",
    "version": 3
   },
   "file_extension": ".py",
   "mimetype": "text/x-python",
   "name": "python",
   "nbconvert_exporter": "python",
   "pygments_lexer": "ipython3",
   "version": "3.12.10"
  }
 },
 "nbformat": 4,
 "nbformat_minor": 5
}
